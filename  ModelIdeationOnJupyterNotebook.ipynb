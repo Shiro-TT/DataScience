{
 "cells": [
  {
   "cell_type": "markdown",
   "metadata": {},
   "source": [
    "## Lib"
   ]
  },
  {
   "cell_type": "code",
   "execution_count": 1,
   "metadata": {},
   "outputs": [],
   "source": [
    "import copy\n",
    "import pandas as pd\n",
    "from matplotlib import pyplot as plt\n",
    "from sklearn.metrics.pairwise import linear_kernel\n",
    "from sklearn.feature_extraction.text import TfidfVectorizer"
   ]
  },
  {
   "cell_type": "markdown",
   "metadata": {},
   "source": [
    "---\n",
    "## I. Exploring the data"
   ]
  },
  {
   "cell_type": "code",
   "execution_count": 2,
   "metadata": {},
   "outputs": [],
   "source": [
    "df = pd.read_csv('ML-technicaltest-ecommerce.csv')"
   ]
  },
  {
   "cell_type": "code",
   "execution_count": 3,
   "metadata": {},
   "outputs": [
    {
     "data": {
      "text/html": [
       "<div>\n",
       "<style scoped>\n",
       "    .dataframe tbody tr th:only-of-type {\n",
       "        vertical-align: middle;\n",
       "    }\n",
       "\n",
       "    .dataframe tbody tr th {\n",
       "        vertical-align: top;\n",
       "    }\n",
       "\n",
       "    .dataframe thead th {\n",
       "        text-align: right;\n",
       "    }\n",
       "</style>\n",
       "<table border=\"1\" class=\"dataframe\">\n",
       "  <thead>\n",
       "    <tr style=\"text-align: right;\">\n",
       "      <th></th>\n",
       "      <th>InvoiceNo</th>\n",
       "      <th>StockCode</th>\n",
       "      <th>Description</th>\n",
       "      <th>Quantity</th>\n",
       "      <th>UnitPrice</th>\n",
       "      <th>CustomerID</th>\n",
       "      <th>Country</th>\n",
       "    </tr>\n",
       "  </thead>\n",
       "  <tbody>\n",
       "    <tr>\n",
       "      <th>0</th>\n",
       "      <td>536365</td>\n",
       "      <td>85123A</td>\n",
       "      <td>WHITE HANGING HEART T-LIGHT HOLDER</td>\n",
       "      <td>6</td>\n",
       "      <td>2.55</td>\n",
       "      <td>17850.0</td>\n",
       "      <td>United Kingdom</td>\n",
       "    </tr>\n",
       "    <tr>\n",
       "      <th>1</th>\n",
       "      <td>536365</td>\n",
       "      <td>71053</td>\n",
       "      <td>WHITE METAL LANTERN</td>\n",
       "      <td>6</td>\n",
       "      <td>3.39</td>\n",
       "      <td>17850.0</td>\n",
       "      <td>United Kingdom</td>\n",
       "    </tr>\n",
       "    <tr>\n",
       "      <th>2</th>\n",
       "      <td>536365</td>\n",
       "      <td>84406B</td>\n",
       "      <td>CREAM CUPID HEARTS COAT HANGER</td>\n",
       "      <td>8</td>\n",
       "      <td>2.75</td>\n",
       "      <td>17850.0</td>\n",
       "      <td>United Kingdom</td>\n",
       "    </tr>\n",
       "    <tr>\n",
       "      <th>3</th>\n",
       "      <td>536365</td>\n",
       "      <td>84029G</td>\n",
       "      <td>KNITTED UNION FLAG HOT WATER BOTTLE</td>\n",
       "      <td>6</td>\n",
       "      <td>3.39</td>\n",
       "      <td>17850.0</td>\n",
       "      <td>United Kingdom</td>\n",
       "    </tr>\n",
       "    <tr>\n",
       "      <th>4</th>\n",
       "      <td>536365</td>\n",
       "      <td>84029E</td>\n",
       "      <td>RED WOOLLY HOTTIE WHITE HEART.</td>\n",
       "      <td>6</td>\n",
       "      <td>3.39</td>\n",
       "      <td>17850.0</td>\n",
       "      <td>United Kingdom</td>\n",
       "    </tr>\n",
       "  </tbody>\n",
       "</table>\n",
       "</div>"
      ],
      "text/plain": [
       "  InvoiceNo StockCode                          Description  Quantity  \\\n",
       "0    536365    85123A   WHITE HANGING HEART T-LIGHT HOLDER         6   \n",
       "1    536365     71053                  WHITE METAL LANTERN         6   \n",
       "2    536365    84406B       CREAM CUPID HEARTS COAT HANGER         8   \n",
       "3    536365    84029G  KNITTED UNION FLAG HOT WATER BOTTLE         6   \n",
       "4    536365    84029E       RED WOOLLY HOTTIE WHITE HEART.         6   \n",
       "\n",
       "   UnitPrice  CustomerID         Country  \n",
       "0       2.55     17850.0  United Kingdom  \n",
       "1       3.39     17850.0  United Kingdom  \n",
       "2       2.75     17850.0  United Kingdom  \n",
       "3       3.39     17850.0  United Kingdom  \n",
       "4       3.39     17850.0  United Kingdom  "
      ]
     },
     "execution_count": 3,
     "metadata": {},
     "output_type": "execute_result"
    }
   ],
   "source": [
    "df.head(5)"
   ]
  },
  {
   "cell_type": "code",
   "execution_count": 4,
   "metadata": {},
   "outputs": [
    {
     "name": "stdout",
     "output_type": "stream",
     "text": [
      "Dữ liệu có 541909 dòng, 7 cột.\n"
     ]
    }
   ],
   "source": [
    "num_rows, num_cols = df.shape\n",
    "print(\"Dữ liệu có {} dòng, {} cột.\".format(num_rows, num_cols))"
   ]
  },
  {
   "cell_type": "markdown",
   "metadata": {},
   "source": [
    "- InvoiceNo : Mã hóa đơn\n",
    "- StockCode : Mã Sản phẩm\n",
    "- Description : Mô tả các mặt hàng Sản phẩm\n",
    "- Quantity : Số lượng các mặt hàng trong hóa đơn\n",
    "- UnitPrice : Đơn giá của các mặt hàng trong hóa đơn\n",
    "- CustomerID : ID khách hàng của hóa đơn\n",
    "- Country : Quốc gia của khách hàng"
   ]
  },
  {
   "cell_type": "code",
   "execution_count": 5,
   "metadata": {},
   "outputs": [
    {
     "name": "stdout",
     "output_type": "stream",
     "text": [
      "<class 'pandas.core.frame.DataFrame'>\n",
      "RangeIndex: 541909 entries, 0 to 541908\n",
      "Data columns (total 7 columns):\n",
      " #   Column       Non-Null Count   Dtype  \n",
      "---  ------       --------------   -----  \n",
      " 0   InvoiceNo    541909 non-null  object \n",
      " 1   StockCode    541909 non-null  object \n",
      " 2   Description  540455 non-null  object \n",
      " 3   Quantity     541909 non-null  int64  \n",
      " 4   UnitPrice    541909 non-null  float64\n",
      " 5   CustomerID   406829 non-null  float64\n",
      " 6   Country      541909 non-null  object \n",
      "dtypes: float64(2), int64(1), object(4)\n",
      "memory usage: 28.9+ MB\n",
      "\n",
      "=> Dữ liệu bị thiếu.\n"
     ]
    }
   ],
   "source": [
    "#xem thông tin data:\n",
    "df.info()\n",
    "if df.isnull().values.any() == False:\n",
    "    print(\"\\n=> Không có ô giá trị nào bị thiếu.\")\n",
    "else:\n",
    "    print(\"\\n=> Dữ liệu bị thiếu.\")"
   ]
  },
  {
   "cell_type": "markdown",
   "metadata": {},
   "source": [
    "Nhìn vào dữ liệu ta thấy dữ liệu thiếu ở cột \n",
    "+ Description có 1454 dòng null (chiếm 0.26% bộ dữ liệu)\n",
    "+ CustomerID có 135080 dòng null (chiếm 24.92% bộ dữ liệu)"
   ]
  },
  {
   "cell_type": "markdown",
   "metadata": {},
   "source": [
    "---"
   ]
  },
  {
   "cell_type": "markdown",
   "metadata": {},
   "source": [
    "## II. Preprocessing"
   ]
  },
  {
   "cell_type": "markdown",
   "metadata": {},
   "source": [
    "1. Chuẩn hóa dữ liệu chuổi"
   ]
  },
  {
   "cell_type": "code",
   "execution_count": 6,
   "metadata": {},
   "outputs": [],
   "source": [
    "# Print all string into upper\n",
    "df['StockCode'] = df['StockCode'].str.upper()\n",
    "df['Description'] = df['Description'].str.upper()\n",
    "\n",
    "# replace NaN with empty string\n",
    "df['Description'] = df['Description'].fillna('')"
   ]
  },
  {
   "cell_type": "markdown",
   "metadata": {},
   "source": [
    "2. Loại bỏ một số dòng không liên quan đến quá trình huấn luyện mô hình"
   ]
  },
  {
   "cell_type": "code",
   "execution_count": 7,
   "metadata": {},
   "outputs": [
    {
     "data": {
      "text/html": [
       "<div>\n",
       "<style scoped>\n",
       "    .dataframe tbody tr th:only-of-type {\n",
       "        vertical-align: middle;\n",
       "    }\n",
       "\n",
       "    .dataframe tbody tr th {\n",
       "        vertical-align: top;\n",
       "    }\n",
       "\n",
       "    .dataframe thead th {\n",
       "        text-align: right;\n",
       "    }\n",
       "</style>\n",
       "<table border=\"1\" class=\"dataframe\">\n",
       "  <thead>\n",
       "    <tr style=\"text-align: right;\">\n",
       "      <th></th>\n",
       "      <th>StockCode</th>\n",
       "      <th>Description</th>\n",
       "      <th>UnitPrice</th>\n",
       "      <th>Country</th>\n",
       "    </tr>\n",
       "  </thead>\n",
       "  <tbody>\n",
       "    <tr>\n",
       "      <th>0</th>\n",
       "      <td>85123A</td>\n",
       "      <td>WHITE HANGING HEART T-LIGHT HOLDER</td>\n",
       "      <td>2.55</td>\n",
       "      <td>United Kingdom</td>\n",
       "    </tr>\n",
       "    <tr>\n",
       "      <th>1</th>\n",
       "      <td>71053</td>\n",
       "      <td>WHITE METAL LANTERN</td>\n",
       "      <td>3.39</td>\n",
       "      <td>United Kingdom</td>\n",
       "    </tr>\n",
       "    <tr>\n",
       "      <th>2</th>\n",
       "      <td>84406B</td>\n",
       "      <td>CREAM CUPID HEARTS COAT HANGER</td>\n",
       "      <td>2.75</td>\n",
       "      <td>United Kingdom</td>\n",
       "    </tr>\n",
       "    <tr>\n",
       "      <th>3</th>\n",
       "      <td>84029G</td>\n",
       "      <td>KNITTED UNION FLAG HOT WATER BOTTLE</td>\n",
       "      <td>3.39</td>\n",
       "      <td>United Kingdom</td>\n",
       "    </tr>\n",
       "    <tr>\n",
       "      <th>4</th>\n",
       "      <td>84029E</td>\n",
       "      <td>RED WOOLLY HOTTIE WHITE HEART.</td>\n",
       "      <td>3.39</td>\n",
       "      <td>United Kingdom</td>\n",
       "    </tr>\n",
       "  </tbody>\n",
       "</table>\n",
       "</div>"
      ],
      "text/plain": [
       "  StockCode                          Description  UnitPrice         Country\n",
       "0    85123A   WHITE HANGING HEART T-LIGHT HOLDER       2.55  United Kingdom\n",
       "1     71053                  WHITE METAL LANTERN       3.39  United Kingdom\n",
       "2    84406B       CREAM CUPID HEARTS COAT HANGER       2.75  United Kingdom\n",
       "3    84029G  KNITTED UNION FLAG HOT WATER BOTTLE       3.39  United Kingdom\n",
       "4    84029E       RED WOOLLY HOTTIE WHITE HEART.       3.39  United Kingdom"
      ]
     },
     "execution_count": 7,
     "metadata": {},
     "output_type": "execute_result"
    }
   ],
   "source": [
    "new_df = df.copy()\n",
    "\n",
    "# Drop row with UnitPride lower than 0\n",
    "new_df = new_df[new_df.UnitPrice > 0]\n",
    "\n",
    "# Drop row with Quantity lower than 0\n",
    "new_df = new_df[new_df.Quantity > 0]\n",
    "\n",
    "new_df =  new_df.drop_duplicates(subset=['StockCode'])\n",
    "\n",
    "new_df = new_df.reset_index()\n",
    "new_df = new_df.drop(columns = ['index', 'CustomerID', 'InvoiceNo', 'Quantity'])\n",
    "new_df.head(5)"
   ]
  },
  {
   "cell_type": "markdown",
   "metadata": {},
   "source": [
    "---\n",
    "## III. Visualize"
   ]
  },
  {
   "cell_type": "markdown",
   "metadata": {},
   "source": [
    "#### 1. Các Codestock xuất hiện nhiều nhất"
   ]
  },
  {
   "cell_type": "code",
   "execution_count": 8,
   "metadata": {},
   "outputs": [
    {
     "data": {
      "image/png": "[encoded data removed]",
      "text/plain": [
       "<Figure size 576x432 with 1 Axes>"
      ]
     },
     "metadata": {
      "needs_background": "light"
     },
     "output_type": "display_data"
    }
   ],
   "source": [
    "totalCommentCount = df.StockCode.value_counts()\n",
    "lessComment = totalCommentCount[::].head(30)\n",
    "plt.figure(figsize=(8, 6))\n",
    "plt.xlabel(\"Số lượng comment\")\n",
    "plt.ylabel(\"Tên điện thoại\")\n",
    "plt.title('Top 30 mặt hàng được mua nhiều lần nhất (tính theo số lần xuất hiện)'\n",
    "          ,color = 'blue')\n",
    "lessComment.plot.bar()\n",
    "plt.show()"
   ]
  },
  {
   "cell_type": "markdown",
   "metadata": {},
   "source": [
    "#### 2. Tổng quan số lần xuất hiện của các sản phẩm"
   ]
  },
  {
   "cell_type": "code",
   "execution_count": 9,
   "metadata": {},
   "outputs": [
    {
     "data": {
      "image/png": "[encoded data removed]",
      "text/plain": [
       "<Figure size 576x432 with 1 Axes>"
      ]
     },
     "metadata": {
      "needs_background": "light"
     },
     "output_type": "display_data"
    }
   ],
   "source": [
    "totalCommentCount = df.StockCode.value_counts()\n",
    "\n",
    "plt.figure(figsize=(8, 6))\n",
    "plt.ylabel(\"số lượng\")\n",
    "plt.xlabel(\"Số lần xuất hiện\")\n",
    "plt.title('Histogram số lần xuất hiện', color = 'blue')\n",
    "\n",
    "sizes = totalCommentCount.values\n",
    "plt.hist(sizes, bins = [0, 50, 100, 400, 700, 1000, 1300, 1600, sizes.max()])\n",
    "plt.show()"
   ]
  },
  {
   "cell_type": "markdown",
   "metadata": {},
   "source": [
    "---\n",
    "## III. Train"
   ]
  },
  {
   "cell_type": "markdown",
   "metadata": {},
   "source": [
    "##### 1. What is the raw input of the model?\n",
    "    - Raw input của model là Description của các sản phẩm \n",
    "##### 2. Preprocessing and any feature engineering steps\n",
    "    + Loại bỏ các dòng có UnitPrice <= 0\n",
    "    + Loại bỏ các dòng có Quantity <= 0\n",
    "    + Đưa các dòng Description có giá trị NULL về chuổi rỗng \"\"\n",
    "    + Loại bỏ các dòng lặp lại (kết quả: mỗi sản phẩm chỉ xuất hiện trên một dòng)\n",
    "##### 3. What are inputs/outputs in predicting?\n",
    "    - input: a StockCode\n",
    "    - output: top 5 stockCode tương tự với input\n",
    "##### 4. ML Algorithms you choose, and why?\n",
    "    - Mô hình được sữ dụng: content-based recommender system\n",
    "    - Mô tả: dựa trên Description của sản phẩm tìm điểm chung của các sản phẩm với nhau, sau đó recommend cho người dùng."
   ]
  },
  {
   "cell_type": "code",
   "execution_count": 10,
   "metadata": {},
   "outputs": [
    {
     "data": {
      "text/plain": [
       "(3812, 2055)"
      ]
     },
     "execution_count": 10,
     "metadata": {},
     "output_type": "execute_result"
    }
   ],
   "source": [
    "# init, drop all stop word ('the', 'a', ...)\n",
    "tfidf = TfidfVectorizer(stop_words='english')\n",
    "\n",
    "# create tf-idf matrix\n",
    "tfidf_matrix = tfidf.fit_transform(new_df['Description'])\n",
    "\n",
    "tfidf_matrix.shape"
   ]
  },
  {
   "cell_type": "code",
   "execution_count": 11,
   "metadata": {},
   "outputs": [
    {
     "data": {
      "text/plain": [
       "<3812x2055 sparse matrix of type '<class 'numpy.float64'>'\n",
       "\twith 15688 stored elements in Compressed Sparse Row format>"
      ]
     },
     "execution_count": 11,
     "metadata": {},
     "output_type": "execute_result"
    }
   ],
   "source": [
    "tfidf_matrix"
   ]
  },
  {
   "cell_type": "code",
   "execution_count": 12,
   "metadata": {},
   "outputs": [],
   "source": [
    "#compute the cosine similarity matrix\n",
    "cosine_similarity = linear_kernel(tfidf_matrix, tfidf_matrix)\n",
    "\n",
    "# a reverse map of indices and  \n",
    "indices = pd.Series(new_df.index, index = new_df['StockCode']).drop_duplicates()"
   ]
  },
  {
   "cell_type": "code",
   "execution_count": 13,
   "metadata": {},
   "outputs": [],
   "source": [
    "def get_recommend(codeStock, cosine_sim = cosine_similarity):\n",
    "    # get index in matrix\n",
    "    idx = indices[codeStock]\n",
    "    \n",
    "    # get similary score series of idx\n",
    "    sim_scores = list(enumerate(cosine_sim[idx]))\n",
    "    \n",
    "    #sort top down\n",
    "    sim_scores = sorted(sim_scores, key=lambda x: x[1], reverse = True)\n",
    "    \n",
    "    #Pick top 5 product have highest similary score\n",
    "    sim_scores = sim_scores[1:6]\n",
    "    \n",
    "    #get infomation of top  5\n",
    "    stock_indices = [i[0] for i in sim_scores]\n",
    "    \n",
    "    return new_df.iloc[stock_indices]"
   ]
  },
  {
   "cell_type": "markdown",
   "metadata": {},
   "source": [
    "---\n",
    "## IV. Predict"
   ]
  },
  {
   "cell_type": "code",
   "execution_count": 14,
   "metadata": {},
   "outputs": [
    {
     "name": "stdout",
     "output_type": "stream",
     "text": [
      "['85123A' '71053' '84406B' '84029G' '84029E' '22752' '21730' '22633'\n",
      " '22632' '84879' '22745' '22748' '22749' '22310' '84969' '22623' '22622'\n",
      " '21754' '21755' '21777' '48187' '22960' '22913' '22912' '22914' '21756'\n",
      " '22728' '22727' '22726' '21724' '21883' '10002' '21791' '21035' '22326'\n",
      " '22629' '22659' '22631' '22661' '21731' '22900' '21913' '22540' '22544'\n",
      " '22492' 'POST' '22086' '20679' '37370' '21871']\n"
     ]
    }
   ],
   "source": [
    "print(new_df.StockCode.unique()[0:50])"
   ]
  },
  {
   "cell_type": "code",
   "execution_count": 15,
   "metadata": {},
   "outputs": [
    {
     "name": "stdout",
     "output_type": "stream",
     "text": [
      "Sản phẩm input: \n",
      "   StockCode                         Description  UnitPrice         Country\n",
      "0    85123A  WHITE HANGING HEART T-LIGHT HOLDER       2.55  United Kingdom\n",
      "\n",
      "--------------------------------------------------------------------\n",
      "\n",
      "Sản phẩm output:\n"
     ]
    },
    {
     "data": {
      "text/html": [
       "<div>\n",
       "<style scoped>\n",
       "    .dataframe tbody tr th:only-of-type {\n",
       "        vertical-align: middle;\n",
       "    }\n",
       "\n",
       "    .dataframe tbody tr th {\n",
       "        vertical-align: top;\n",
       "    }\n",
       "\n",
       "    .dataframe thead th {\n",
       "        text-align: right;\n",
       "    }\n",
       "</style>\n",
       "<table border=\"1\" class=\"dataframe\">\n",
       "  <thead>\n",
       "    <tr style=\"text-align: right;\">\n",
       "      <th></th>\n",
       "      <th>StockCode</th>\n",
       "      <th>Description</th>\n",
       "      <th>UnitPrice</th>\n",
       "      <th>Country</th>\n",
       "    </tr>\n",
       "  </thead>\n",
       "  <tbody>\n",
       "    <tr>\n",
       "      <th>58</th>\n",
       "      <td>21733</td>\n",
       "      <td>RED HANGING HEART T-LIGHT HOLDER</td>\n",
       "      <td>2.55</td>\n",
       "      <td>United Kingdom</td>\n",
       "    </tr>\n",
       "    <tr>\n",
       "      <th>166</th>\n",
       "      <td>84970S</td>\n",
       "      <td>HANGING HEART ZINC T-LIGHT HOLDER</td>\n",
       "      <td>0.64</td>\n",
       "      <td>United Kingdom</td>\n",
       "    </tr>\n",
       "    <tr>\n",
       "      <th>500</th>\n",
       "      <td>21814</td>\n",
       "      <td>HEART T-LIGHT HOLDER</td>\n",
       "      <td>1.45</td>\n",
       "      <td>United Kingdom</td>\n",
       "    </tr>\n",
       "    <tr>\n",
       "      <th>2291</th>\n",
       "      <td>85118</td>\n",
       "      <td>HEART T-LIGHT HOLDER</td>\n",
       "      <td>1.25</td>\n",
       "      <td>United Kingdom</td>\n",
       "    </tr>\n",
       "    <tr>\n",
       "      <th>1869</th>\n",
       "      <td>84978</td>\n",
       "      <td>HANGING HEART JAR T-LIGHT HOLDER</td>\n",
       "      <td>1.25</td>\n",
       "      <td>United Kingdom</td>\n",
       "    </tr>\n",
       "  </tbody>\n",
       "</table>\n",
       "</div>"
      ],
      "text/plain": [
       "     StockCode                        Description  UnitPrice         Country\n",
       "58       21733   RED HANGING HEART T-LIGHT HOLDER       2.55  United Kingdom\n",
       "166     84970S  HANGING HEART ZINC T-LIGHT HOLDER       0.64  United Kingdom\n",
       "500      21814              HEART T-LIGHT HOLDER        1.45  United Kingdom\n",
       "2291     85118               HEART T-LIGHT HOLDER       1.25  United Kingdom\n",
       "1869     84978   HANGING HEART JAR T-LIGHT HOLDER       1.25  United Kingdom"
      ]
     },
     "execution_count": 15,
     "metadata": {},
     "output_type": "execute_result"
    }
   ],
   "source": [
    "stock = '85123A'\n",
    "print('Sản phẩm input: \\n' ,new_df[new_df.StockCode == stock])\n",
    "print(\"\\n--------------------------------------------------------------------\")\n",
    "print('\\nSản phẩm output:')\n",
    "get_recommend(stock)"
   ]
  },
  {
   "cell_type": "code",
   "execution_count": null,
   "metadata": {},
   "outputs": [],
   "source": []
  }
 ],
 "metadata": {
  "kernelspec": {
   "display_name": "Python 3",
   "language": "python",
   "name": "python3"
  },
  "language_info": {
   "codemirror_mode": {
    "name": "ipython",
    "version": 3
   },
   "file_extension": ".py",
   "mimetype": "text/x-python",
   "name": "python",
   "nbconvert_exporter": "python",
   "pygments_lexer": "ipython3",
   "version": "3.8.5"
  }
 },
 "nbformat": 4,
 "nbformat_minor": 4
}
